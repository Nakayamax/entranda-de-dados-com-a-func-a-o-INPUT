{
 "cells": [
  {
   "cell_type": "code",
   "execution_count": 1,
   "id": "8894cecd-2be7-4531-b29b-a300f2ae2b70",
   "metadata": {},
   "outputs": [
    {
     "name": "stdin",
     "output_type": "stream",
     "text": [
      "Digite a idade:  25\n",
      "Digite o seu telefone: 98565\n",
      "digite o seu número de identidade:  98123\n"
     ]
    },
    {
     "name": "stdout",
     "output_type": "stream",
     "text": [
      "A informação digitada foi: Idade:25,telefone98565,Número de identidade: 98123\n"
     ]
    }
   ],
   "source": [
    "#solicita informações ao uúario e armazena em um única variável\n",
    "dados = \"Idade:\" + input (\"Digite a idade: \") + \",\" \\\n",
    "        \"telefone\" + input (\"Digite o seu telefone:\") + \",\" \\\n",
    "        \"Número de identidade: \" + input(\"digite o seu número de identidade: \")\n",
    "#exibe a informação digitada\n",
    "print(\"A informação digitada foi:\", dados)"
   ]
  },
  {
   "cell_type": "code",
   "execution_count": null,
   "id": "1803bcf9-4f08-414a-96cc-95c97007da26",
   "metadata": {},
   "outputs": [],
   "source": []
  },
  {
   "cell_type": "code",
   "execution_count": null,
   "id": "31e5b52a-b16e-4228-8c98-bde2d1212029",
   "metadata": {},
   "outputs": [],
   "source": []
  }
 ],
 "metadata": {
  "kernelspec": {
   "display_name": "Python 3 (ipykernel)",
   "language": "python",
   "name": "python3"
  },
  "language_info": {
   "codemirror_mode": {
    "name": "ipython",
    "version": 3
   },
   "file_extension": ".py",
   "mimetype": "text/x-python",
   "name": "python",
   "nbconvert_exporter": "python",
   "pygments_lexer": "ipython3",
   "version": "3.12.4"
  }
 },
 "nbformat": 4,
 "nbformat_minor": 5
}
